{
 "cells": [
  {
   "cell_type": "markdown",
   "metadata": {},
   "source": [
    "# Style guide"
   ]
  },
  {
   "cell_type": "markdown",
   "metadata": {},
   "source": [
    "## PEP-8"
   ]
  },
  {
   "cell_type": "code",
   "execution_count": null,
   "metadata": {},
   "outputs": [],
   "source": [
    "# variable definition"
   ]
  },
  {
   "cell_type": "code",
   "execution_count": 1,
   "metadata": {},
   "outputs": [],
   "source": [
    "# correct \n",
    "x = 1\n",
    "y = 1\n",
    "# wrong\n",
    "xxxx     = 1\n",
    "y        = 1"
   ]
  },
  {
   "cell_type": "code",
   "execution_count": 2,
   "metadata": {},
   "outputs": [],
   "source": [
    "# 引数の「=」にはスペース不要\n",
    "# Correct:\n",
    "def complex(real, imag=0.0):\n",
    "    return magic(r=real, i=imag)\n",
    "# Wrong:\n",
    "def complex(real, imag = 0.0):\n",
    "    return magic(r = real, i = imag)"
   ]
  },
  {
   "cell_type": "code",
   "execution_count": 3,
   "metadata": {},
   "outputs": [],
   "source": [
    "# operatorの周りにスペース一個．もしオペレータのpriorityがある場合は無くす\n",
    "# Correct:\n",
    "x = x + 1\n",
    "x += 1\n",
    "x = x*2 - 1\n",
    "a = x*x + y*y\n",
    "c = (a+1) * (a-1)\n",
    "# Wrong:\n",
    "x=x+1\n",
    "x +=1\n",
    "x = x * 2 - 1\n",
    "a = x * x + y * y\n",
    "c = (a + 1) * (a - 1)"
   ]
  },
  {
   "cell_type": "code",
   "execution_count": 5,
   "metadata": {},
   "outputs": [],
   "source": [
    "# コンマの後にはスペースを入れる．\n",
    "# Correct:\n",
    "range(1, 11)\n",
    "# Wrong:\n",
    "range(1,11)\n",
    "# しかし，そのあとに閉じカッコが来る場合はスペース不要\n",
    "# Correct:\n",
    "foo = (0,)\n",
    "# Wrong:\n",
    "bar = (0, )"
   ]
  },
  {
   "cell_type": "code",
   "execution_count": 6,
   "metadata": {},
   "outputs": [],
   "source": [
    "# 要素を並べる時にコンマで終えることが可能．そうすることで簡単に行を追加でき，gitなどのバージョン管理で差分にならない\n",
    "# ただこれをやる場合は，閉じカッコは次の行にすること\n",
    "# Correct:\n",
    "FILES = [\n",
    "    'setup.cfg',\n",
    "    'tox.ini',\n",
    "    ]\n",
    "# Wrong:\n",
    "FILES = ['setup.cfg', 'tox.ini',]"
   ]
  },
  {
   "cell_type": "code",
   "execution_count": 7,
   "metadata": {},
   "outputs": [
    {
     "ename": "NameError",
     "evalue": "name 'long_function_name' is not defined",
     "output_type": "error",
     "traceback": [
      "\u001b[0;31m---------------------------------------------------------------------------\u001b[0m",
      "\u001b[0;31mNameError\u001b[0m                                 Traceback (most recent call last)",
      "\u001b[0;32m<ipython-input-7-b41a661816b3>\u001b[0m in \u001b[0;36m<module>\u001b[0;34m\u001b[0m\n\u001b[1;32m      3\u001b[0m \u001b[0;31m# (pycharmのデフォルトは120文字)\u001b[0m\u001b[0;34m\u001b[0m\u001b[0;34m\u001b[0m\u001b[0;34m\u001b[0m\u001b[0m\n\u001b[1;32m      4\u001b[0m \u001b[0;31m# 関数名が長くて折り返す場合は，\u001b[0m\u001b[0;34m\u001b[0m\u001b[0;34m\u001b[0m\u001b[0;34m\u001b[0m\u001b[0m\n\u001b[0;32m----> 5\u001b[0;31m foo = long_function_name(var_one, var_two,\n\u001b[0m\u001b[1;32m      6\u001b[0m                          var_three, var_four)\n\u001b[1;32m      7\u001b[0m \u001b[0;31m# のように引数のはじまりの縦をあわせるか\u001b[0m\u001b[0;34m\u001b[0m\u001b[0;34m\u001b[0m\u001b[0;34m\u001b[0m\u001b[0m\n",
      "\u001b[0;31mNameError\u001b[0m: name 'long_function_name' is not defined"
     ]
    }
   ],
   "source": [
    "# PEPでは一行79文字までを推奨しているが，厳密にやる必要はない\n",
    "# 高解像度化により80文字は全然フィットするようになってきている．\n",
    "# (pycharmのデフォルトは120文字)\n",
    "# 関数名が長くて折り返す場合は，\n",
    "foo = long_function_name(var_one, var_two,\n",
    "                         var_three, var_four)\n",
    "# のように引数のはじまりの縦をあわせるか\n",
    "foo = long_function_name(\n",
    "    var_one, var_two,\n",
    "    var_three, var_four)\n",
    "# のように引数を全てインデントするか\n",
    "# ※この場合一行目の引数は書かない．つまり以下はNG\n",
    "foo = long_function_name(var_one, var_two,\n",
    "    var_three, var_four)\n"
   ]
  },
  {
   "cell_type": "code",
   "execution_count": 9,
   "metadata": {},
   "outputs": [],
   "source": [
    "# 関数定義の際に改行する場合は，二行目を8スペース開けることでその次のブロックとの差がわかるようにする\n",
    "# correct\n",
    "def long_function_name(\n",
    "        var_one, var_two, var_three,\n",
    "        var_four):\n",
    "    print(var_one)\n",
    "\n",
    "# ブロックの境目がわからなくなるのはNG\n",
    "# wrong\n",
    "def long_function_name(\n",
    "    var_one, var_two, var_three,\n",
    "    var_four):\n",
    "    print(var_one)"
   ]
  },
  {
   "cell_type": "code",
   "execution_count": 10,
   "metadata": {},
   "outputs": [
    {
     "name": "stdout",
     "output_type": "stream",
     "text": [
      "このように表示する文章がながったりした場合は バックスラッシュで区切ると改行できます\n"
     ]
    }
   ],
   "source": [
    "# '\\'で区切って改行する\n",
    "\n",
    "print(\"このように表示する文章がながったりした場合は \\\n",
    "バックスラッシュで区切ると改行できます\")\n",
    "# 演算子の後ではなく，前で改行する．\n",
    "# Correct:\n",
    "a = 10000000000000000 \\\n",
    "    + 100000000000000 \\\n",
    "    + 10000 \\\n",
    "    + 10000\n",
    "\n",
    "# Wrong:\n",
    "b = 10000000000000000 +\\\n",
    "    100000000000000 +\\\n",
    "    10000 +\\\n",
    "    10000"
   ]
  },
  {
   "cell_type": "code",
   "execution_count": 11,
   "metadata": {},
   "outputs": [],
   "source": [
    "# 関数間は2行空ける\n",
    "def func():\n",
    "    pass\n",
    "\n",
    "\n",
    "def func2():\n",
    "    pass"
   ]
  },
  {
   "cell_type": "code",
   "execution_count": 13,
   "metadata": {},
   "outputs": [],
   "source": [
    "# メソッド間は1行空ける\n",
    "class MyClass:\n",
    "    def __init__(self):\n",
    "        pass\n",
    "\n",
    "    def method(self):\n",
    "        pass"
   ]
  },
  {
   "cell_type": "code",
   "execution_count": 14,
   "metadata": {},
   "outputs": [],
   "source": [
    "# importはファイルの最初に書く\n",
    "# importは別々の行に書く\n",
    "# Correct:\n",
    "import os\n",
    "import sys\n",
    "\n",
    "# Wrong:\n",
    "import sys, os\n",
    "\n",
    "# ただfromをつける場合は一行にまとめてOK.(でないと大量のimport文を書くことになる)\n",
    "# Correct:\n",
    "from subprocess import Popen, PIPE\n",
    "\n",
    "# 書く順番は\n",
    "# 1.Standard library\n",
    "# 2.Third party\n",
    "# 3.Our library\n",
    "# 4.Local library\n",
    "# それぞれ1行空ける"
   ]
  },
  {
   "cell_type": "code",
   "execution_count": 15,
   "metadata": {},
   "outputs": [
    {
     "ename": "ModuleNotFoundError",
     "evalue": "No module named 'mypkg'",
     "output_type": "error",
     "traceback": [
      "\u001b[0;31m---------------------------------------------------------------------------\u001b[0m",
      "\u001b[0;31mModuleNotFoundError\u001b[0m                       Traceback (most recent call last)",
      "\u001b[0;32m<ipython-input-15-32ee8987dcfe>\u001b[0m in \u001b[0;36m<module>\u001b[0;34m\u001b[0m\n\u001b[1;32m      1\u001b[0m \u001b[0;31m# なるべくabsolute importを使う\u001b[0m\u001b[0;34m\u001b[0m\u001b[0;34m\u001b[0m\u001b[0;34m\u001b[0m\u001b[0m\n\u001b[0;32m----> 2\u001b[0;31m \u001b[0;32mimport\u001b[0m \u001b[0mmypkg\u001b[0m\u001b[0;34m.\u001b[0m\u001b[0msibling\u001b[0m\u001b[0;34m\u001b[0m\u001b[0;34m\u001b[0m\u001b[0m\n\u001b[0m\u001b[1;32m      3\u001b[0m \u001b[0;32mfrom\u001b[0m \u001b[0mmypkg\u001b[0m \u001b[0;32mimport\u001b[0m \u001b[0msibling\u001b[0m\u001b[0;34m\u001b[0m\u001b[0;34m\u001b[0m\u001b[0m\n\u001b[1;32m      4\u001b[0m \u001b[0;32mfrom\u001b[0m \u001b[0mmypkg\u001b[0m\u001b[0;34m.\u001b[0m\u001b[0msibling\u001b[0m \u001b[0;32mimport\u001b[0m \u001b[0mexample\u001b[0m\u001b[0;34m\u001b[0m\u001b[0;34m\u001b[0m\u001b[0m\n\u001b[1;32m      5\u001b[0m \u001b[0;34m\u001b[0m\u001b[0m\n",
      "\u001b[0;31mModuleNotFoundError\u001b[0m: No module named 'mypkg'"
     ]
    }
   ],
   "source": [
    "# なるべくabsolute importを使う\n",
    "import mypkg.sibling\n",
    "from mypkg import sibling\n",
    "from mypkg.sibling import example\n",
    "\n",
    "# 長すぎたらNG\n",
    "from package.subpackage1.subpackage2.subpackage3.module4 import function"
   ]
  },
  {
   "cell_type": "code",
   "execution_count": null,
   "metadata": {},
   "outputs": [],
   "source": [
    "# コメント\n",
    "# ・コメントは常に最新にする．コメントとコードの中身が異なるなら，コメントは無い方がまし\n",
    "# ・なるべく英語で書く．絶対に日本語がわからない人が読むことがないなら英語で書く必要はない\n",
    "# ・書くときは文章で書くのが望ましい\n",
    "# ・# のあとに半角スペースを入れる\n",
    "# ・Docstringは基本的に全てのmodule, function, class, methodにつける(non publicな外からアクセスしない関数には不要)\n",
    "# ・そのコードが「なにをしているか」より「なぜそう書いたか」の方が有益\n",
    "\n",
    "# 命名規則(naming convention)\n",
    "# 変数名や関数(メソッド)名: snake_case 例) balance, image_height\n",
    "# クラス名: CamelCase 例) Person, MyClass\n",
    "# モジュールやパッケージ名: なるべく短いlower caseで，必要であればsnake_case 例) time, numpy\n",
    "\n",
    "# アンダースコア\n",
    "# - _xxx internal use only(non public)の意味\n",
    "# - xxx_ Pythonで既に使われている単語を使いたいとき．(例:type_\n",
    "# - __xxx クラスの属性として使うことで名前修飾される\n",
    "# - __xxx__ magic methodと呼ばれるもので，Pythonが特別に設定しているもの．開発者定義することはない．(overrideすることはある)\n",
    "# - _: 最近実行した戻り値や，iteration時に使わない変数"
   ]
  },
  {
   "cell_type": "code",
   "execution_count": 17,
   "metadata": {},
   "outputs": [
    {
     "ename": "NameError",
     "evalue": "name 'letter' is not defined",
     "output_type": "error",
     "traceback": [
      "\u001b[0;31m---------------------------------------------------------------------------\u001b[0m",
      "\u001b[0;31mNameError\u001b[0m                                 Traceback (most recent call last)",
      "\u001b[0;32m<ipython-input-17-d31505e5a34c>\u001b[0m in \u001b[0;36m<module>\u001b[0;34m\u001b[0m\n\u001b[1;32m      1\u001b[0m \u001b[0;31m# l, I, Oという一文字の変数名は1や0に見間違えるので使わないこと\u001b[0m\u001b[0;34m\u001b[0m\u001b[0;34m\u001b[0m\u001b[0;34m\u001b[0m\u001b[0m\n\u001b[1;32m      2\u001b[0m \u001b[0;31m# Correct:\u001b[0m\u001b[0;34m\u001b[0m\u001b[0;34m\u001b[0m\u001b[0;34m\u001b[0m\u001b[0m\n\u001b[0;32m----> 3\u001b[0;31m \u001b[0mlength\u001b[0m \u001b[0;34m=\u001b[0m \u001b[0mlen\u001b[0m\u001b[0;34m(\u001b[0m\u001b[0mletter\u001b[0m\u001b[0;34m)\u001b[0m\u001b[0;34m\u001b[0m\u001b[0;34m\u001b[0m\u001b[0m\n\u001b[0m\u001b[1;32m      4\u001b[0m \u001b[0;31m# Wrong:\u001b[0m\u001b[0;34m\u001b[0m\u001b[0;34m\u001b[0m\u001b[0;34m\u001b[0m\u001b[0m\n\u001b[1;32m      5\u001b[0m \u001b[0ml\u001b[0m \u001b[0;34m=\u001b[0m \u001b[0mlen\u001b[0m\u001b[0;34m(\u001b[0m\u001b[0mletter\u001b[0m\u001b[0;34m)\u001b[0m\u001b[0;34m\u001b[0m\u001b[0;34m\u001b[0m\u001b[0m\n",
      "\u001b[0;31mNameError\u001b[0m: name 'letter' is not defined"
     ]
    }
   ],
   "source": [
    "# l, I, Oという一文字の変数名は1や0に見間違えるので使わないこと\n",
    "# Correct:\n",
    "length = len(letter)\n",
    "# Wrong:\n",
    "l = len(letter)"
   ]
  },
  {
   "cell_type": "code",
   "execution_count": 19,
   "metadata": {},
   "outputs": [],
   "source": [
    "# Constants(宣言後変更しない変数)は大文字のsnakecaseを使う\n",
    "PI = 3.14\n",
    "# 変更は可能なので注意(Pythonでは強制できない)\n",
    "PI = 3"
   ]
  },
  {
   "cell_type": "code",
   "execution_count": null,
   "metadata": {},
   "outputs": [],
   "source": [
    "# returnを書くなら全部書く．書かないなら一個も書かない.\n",
    "# Correct:\n",
    "def foo(x):\n",
    "    if x >= 0:\n",
    "        return math.sqrt(x)\n",
    "    else:\n",
    "        return None\n",
    "\n",
    "def bar(x):\n",
    "    if x < 0:\n",
    "        return None\n",
    "    return math.sqrt(x)\n",
    "\n",
    "# Wrong:\n",
    "def foo(x):\n",
    "    if x >= 0:\n",
    "        return math.sqrt(x)\n",
    "\n",
    "def bar(x):\n",
    "    if x < 0:\n",
    "        return\n",
    "    return math.sqrt(x)"
   ]
  },
  {
   "cell_type": "code",
   "execution_count": null,
   "metadata": {},
   "outputs": [],
   "source": [
    "# オブジェクトタイプの確認はisinstance()を使う\n",
    "# Correct:\n",
    "if isinstance(obj, int):\n",
    "# Wrong:\n",
    "if type(obj) is type(1):"
   ]
  },
  {
   "cell_type": "code",
   "execution_count": null,
   "metadata": {},
   "outputs": [],
   "source": [
    "# Booleanに比較演算子は使わない\n",
    "bool_var = True\n",
    "# Correct:\n",
    "if bool_var:\n",
    "\n",
    "# Wrong:\n",
    "if bool_var == True:"
   ]
  },
  {
   "cell_type": "code",
   "execution_count": null,
   "metadata": {},
   "outputs": [],
   "source": [
    "# Type hints\n",
    "# function定義時にannotationをつけて\n",
    "def greeting(name: str) -> str:\n",
    "    return 'Hello ' + name\n",
    "# のように型のヒントを与えることができる．\n",
    "# ・一つでもhitをつけたら全てにつける．\n",
    "# ・typeのチェックをするわけではない\n",
    "# ・Pythonは動的型付言語であることを意識すること\n",
    "# ・このtype hintを強制したり，命名規約に入れるべきではない"
   ]
  }
 ],
 "metadata": {
  "kernelspec": {
   "display_name": "Python 3",
   "language": "python",
   "name": "python3"
  },
  "language_info": {
   "codemirror_mode": {
    "name": "ipython",
    "version": 3
   },
   "file_extension": ".py",
   "mimetype": "text/x-python",
   "name": "python",
   "nbconvert_exporter": "python",
   "pygments_lexer": "ipython3",
   "version": "3.7.6"
  }
 },
 "nbformat": 4,
 "nbformat_minor": 4
}
