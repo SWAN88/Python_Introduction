{
 "cells": [
  {
   "cell_type": "markdown",
   "metadata": {},
   "source": [
    "# Others"
   ]
  },
  {
   "cell_type": "markdown",
   "metadata": {},
   "source": [
    "- **[glob](#glob)**\n",
    "- **[os and pathlib](#os-and-pathlib)**\n",
    "- **[Create folders](#Create-folders)**\n",
    "    - [os.path.exists()](#os.path.exists())\n",
    "    - [os.makedirs()](#os.makedirs())\n",
    "    - [cv2.adaptiveThreshold()](#cv2.adaptiveThreshold())\n",
    "- **[tqdm](#tqdm)**\n",
    "- **[nibabel](#nibabel)**\n",
    "    - [nib.load()](#nib.load())\n",
    "- **[Multiprocessing](#Multiprocessing)**\n",
    "    - [.map()](#.map())\n",
    "    - [Pool.map() & Pool.imap()](#Pool.map()-&-Pool.imap())\n",
    "- **[Load Python Script in Jupyter](#Load-Python-Script-in-Jupyter)**"
   ]
  },
  {
   "cell_type": "markdown",
   "metadata": {},
   "source": [
    "## glob"
   ]
  },
  {
   "cell_type": "code",
   "execution_count": 37,
   "metadata": {},
   "outputs": [],
   "source": [
    "%load_ext autoreload\n",
    "%autoreload 2\n",
    "\n",
    "# import glob -> glob.glob('*')\n",
    "from glob import glob\n",
    "\n",
    "import numpy as np\n",
    "import pandas as pd\n",
    "import matplotlib.pyplot as plt\n",
    "import seaborn as sns\n",
    "%matplotlib inline"
   ]
  },
  {
   "cell_type": "code",
   "execution_count": 4,
   "metadata": {},
   "outputs": [
    {
     "data": {
      "text/plain": [
       "['tmdb_5000_credits.csv',\n",
       " 'sample_ndarray.npy',\n",
       " 'pdf_files.pdf',\n",
       " 'wave_plot.ipynb',\n",
       " 'text_pic.jpg:Zone.Identifier',\n",
       " 'crop_load_rgb.png',\n",
       " 'rp_msk',\n",
       " 'cropped_lenna.png',\n",
       " 'bimodal_sample.png:Zone.Identifier',\n",
       " 'lenna.png',\n",
       " 'runtime_budget_scatter.png',\n",
       " 'matplotlib.ipynb',\n",
       " 'animation_test.gif',\n",
       " 'saved_seaborn.png',\n",
       " 'text_pic.jpg',\n",
       " 'python_basic.ipynb',\n",
       " 'lenna.png:Zone.Identifier',\n",
       " 'animation_test2.gif',\n",
       " 'tmdb_5000_credits.csv:Zone.Identifier',\n",
       " 'cos_sin.png',\n",
       " 'save_multifig_sample.pdf',\n",
       " 'others.ipynb',\n",
       " 'opencv.ipynb',\n",
       " 'numpy.ipynb',\n",
       " 'seaborn.ipynb',\n",
       " 'sample_dict.npy',\n",
       " 'tmdb_5000_movies_profit_sorted.csv',\n",
       " 'tmdb_5000_movies.csv',\n",
       " 'pandas.ipynb',\n",
       " 'rp_im',\n",
       " 'bimodal_sample.png',\n",
       " 'tmdb_5000_movies.csv:Zone.Identifier']"
      ]
     },
     "execution_count": 4,
     "metadata": {},
     "output_type": "execute_result"
    }
   ],
   "source": [
    "# glob.glob('*')"
   ]
  },
  {
   "cell_type": "code",
   "execution_count": 6,
   "metadata": {},
   "outputs": [
    {
     "data": {
      "text/plain": [
       "['crop_load_rgb.png',\n",
       " 'cropped_lenna.png',\n",
       " 'lenna.png',\n",
       " 'runtime_budget_scatter.png',\n",
       " 'saved_seaborn.png',\n",
       " 'cos_sin.png',\n",
       " 'bimodal_sample.png']"
      ]
     },
     "execution_count": 6,
     "metadata": {},
     "output_type": "execute_result"
    }
   ],
   "source": [
    "glob('*.png')"
   ]
  },
  {
   "cell_type": "code",
   "execution_count": 9,
   "metadata": {},
   "outputs": [
    {
     "data": {
      "text/plain": [
       "['public-covid-data/rp_msk/3.nii.gz',\n",
       " 'public-covid-data/rp_msk/1.nii.gz',\n",
       " 'public-covid-data/rp_msk/9.nii.gz',\n",
       " 'public-covid-data/rp_msk/2.nii.gz',\n",
       " 'public-covid-data/rp_msk/6.nii.gz',\n",
       " 'public-covid-data/rp_msk/8.nii.gz',\n",
       " 'public-covid-data/rp_msk/7.nii.gz',\n",
       " 'public-covid-data/rp_msk/4.nii.gz',\n",
       " 'public-covid-data/rp_msk/5.nii.gz',\n",
       " 'public-covid-data/rp_im/3.nii.gz',\n",
       " 'public-covid-data/rp_im/1.nii.gz',\n",
       " 'public-covid-data/rp_im/9.nii.gz',\n",
       " 'public-covid-data/rp_im/2.nii.gz',\n",
       " 'public-covid-data/rp_im/6.nii.gz',\n",
       " 'public-covid-data/rp_im/8.nii.gz',\n",
       " 'public-covid-data/rp_im/7.nii.gz',\n",
       " 'public-covid-data/rp_im/4.nii.gz',\n",
       " 'public-covid-data/rp_im/5.nii.gz']"
      ]
     },
     "execution_count": 9,
     "metadata": {},
     "output_type": "execute_result"
    }
   ],
   "source": [
    "glob('public-covid-data/*/*')"
   ]
  },
  {
   "cell_type": "code",
   "execution_count": 10,
   "metadata": {},
   "outputs": [
    {
     "data": {
      "text/plain": [
       "['public-covid-data/rp_im/9.nii.gz',\n",
       " 'public-covid-data/rp_im/6.nii.gz',\n",
       " 'public-covid-data/rp_im/8.nii.gz',\n",
       " 'public-covid-data/rp_im/7.nii.gz',\n",
       " 'public-covid-data/rp_im/5.nii.gz']"
      ]
     },
     "execution_count": 10,
     "metadata": {},
     "output_type": "execute_result"
    }
   ],
   "source": [
    "glob('public-covid-data/rp_im/[5-9]*')"
   ]
  },
  {
   "cell_type": "markdown",
   "metadata": {},
   "source": [
    "## os and pathlib"
   ]
  },
  {
   "cell_type": "code",
   "execution_count": 12,
   "metadata": {},
   "outputs": [],
   "source": [
    "import os\n",
    "from pathlib import Path\n",
    "# import pathlib -> pathlib.Path()"
   ]
  },
  {
   "cell_type": "code",
   "execution_count": 22,
   "metadata": {},
   "outputs": [],
   "source": [
    "p = Path('public-covid-data/')"
   ]
  },
  {
   "cell_type": "code",
   "execution_count": 25,
   "metadata": {},
   "outputs": [],
   "source": [
    "sub_p = list(p.iterdir())[0]"
   ]
  },
  {
   "cell_type": "code",
   "execution_count": 26,
   "metadata": {},
   "outputs": [
    {
     "data": {
      "text/plain": [
       "[PosixPath('public-covid-data/rp_msk/3.nii.gz'),\n",
       " PosixPath('public-covid-data/rp_msk/1.nii.gz'),\n",
       " PosixPath('public-covid-data/rp_msk/9.nii.gz'),\n",
       " PosixPath('public-covid-data/rp_msk/2.nii.gz'),\n",
       " PosixPath('public-covid-data/rp_msk/6.nii.gz'),\n",
       " PosixPath('public-covid-data/rp_msk/8.nii.gz'),\n",
       " PosixPath('public-covid-data/rp_msk/7.nii.gz'),\n",
       " PosixPath('public-covid-data/rp_msk/.ipynb_checkpoints'),\n",
       " PosixPath('public-covid-data/rp_msk/4.nii.gz'),\n",
       " PosixPath('public-covid-data/rp_msk/5.nii.gz')]"
      ]
     },
     "execution_count": 26,
     "metadata": {},
     "output_type": "execute_result"
    }
   ],
   "source": [
    "list(sub_p.iterdir())"
   ]
  },
  {
   "cell_type": "code",
   "execution_count": 31,
   "metadata": {},
   "outputs": [],
   "source": [
    "target_file = list(sub_p.glob('*[6-9]*'))[0]"
   ]
  },
  {
   "cell_type": "code",
   "execution_count": 34,
   "metadata": {},
   "outputs": [],
   "source": [
    "folder_p, file_name = os.path.split(target_file)"
   ]
  },
  {
   "cell_type": "code",
   "execution_count": 35,
   "metadata": {},
   "outputs": [
    {
     "data": {
      "text/plain": [
       "'public-covid-data/rp_msk'"
      ]
     },
     "execution_count": 35,
     "metadata": {},
     "output_type": "execute_result"
    }
   ],
   "source": [
    "folder_p"
   ]
  },
  {
   "cell_type": "code",
   "execution_count": 36,
   "metadata": {},
   "outputs": [
    {
     "data": {
      "text/plain": [
       "'9.nii.gz'"
      ]
     },
     "execution_count": 36,
     "metadata": {},
     "output_type": "execute_result"
    }
   ],
   "source": [
    "file_name"
   ]
  },
  {
   "cell_type": "code",
   "execution_count": 37,
   "metadata": {},
   "outputs": [
    {
     "data": {
      "text/plain": [
       "'public-covid-data/rp_msk/9.nii.gz'"
      ]
     },
     "execution_count": 37,
     "metadata": {},
     "output_type": "execute_result"
    }
   ],
   "source": [
    "os.path.join(folder_p, file_name)"
   ]
  },
  {
   "cell_type": "markdown",
   "metadata": {},
   "source": [
    "## Create folders"
   ]
  },
  {
   "cell_type": "code",
   "execution_count": 38,
   "metadata": {},
   "outputs": [
    {
     "data": {
      "text/plain": [
       "'public-covid-data/new_folder'"
      ]
     },
     "execution_count": 38,
     "metadata": {},
     "output_type": "execute_result"
    }
   ],
   "source": [
    "# public-covid-data/new_folder\n",
    "\n",
    "p = Path('public-covid-data/')\n",
    "new_folder_name = 'new_folder'\n",
    "new_folder_path = os.path.join(p, new_folder_name)\n",
    "new_folder_path"
   ]
  },
  {
   "cell_type": "markdown",
   "metadata": {},
   "source": [
    "### os.path.exists()"
   ]
  },
  {
   "cell_type": "code",
   "execution_count": 41,
   "metadata": {},
   "outputs": [
    {
     "data": {
      "text/plain": [
       "True"
      ]
     },
     "execution_count": 41,
     "metadata": {},
     "output_type": "execute_result"
    }
   ],
   "source": [
    "os.path.exists(new_folder_path)"
   ]
  },
  {
   "cell_type": "markdown",
   "metadata": {},
   "source": [
    "### os.makedirs()"
   ]
  },
  {
   "cell_type": "code",
   "execution_count": 40,
   "metadata": {},
   "outputs": [],
   "source": [
    "if not os.path.exists(new_folder_path):\n",
    "    os.makedirs(new_folder_path)"
   ]
  },
  {
   "cell_type": "markdown",
   "metadata": {},
   "source": [
    "## tqdm"
   ]
  },
  {
   "cell_type": "code",
   "execution_count": 1,
   "metadata": {},
   "outputs": [],
   "source": [
    "from tqdm import tqdm"
   ]
  },
  {
   "cell_type": "code",
   "execution_count": 9,
   "metadata": {},
   "outputs": [
    {
     "name": "stderr",
     "output_type": "stream",
     "text": [
      "100%|██████████| 10000000/10000000 [00:04<00:00, 2438415.72it/s]"
     ]
    },
    {
     "name": "stdout",
     "output_type": "stream",
     "text": [
      "10000000\n",
      "It took 4.103015184402466\n"
     ]
    },
    {
     "name": "stderr",
     "output_type": "stream",
     "text": [
      "\n"
     ]
    }
   ],
   "source": [
    "import time\n",
    "sum_ = 0\n",
    "before = time.time()\n",
    "for i in tqdm(range(int(1e7)), position=0):\n",
    "    sum_ += 1\n",
    "print(sum_)\n",
    "after = time.time()\n",
    "print(f\"It took {after - before}\")"
   ]
  },
  {
   "cell_type": "code",
   "execution_count": 10,
   "metadata": {},
   "outputs": [],
   "source": [
    "# columns: path_im, filename: path_mask\n",
    "# path_im -> 'public-covid-data/rp_im/5.nii.gz'\n",
    "# filename -> '5.nii.gz'\n",
    "# path_mask -> 'public-covid-data/rp_msk/5.nii.gz'"
   ]
  },
  {
   "cell_type": "code",
   "execution_count": 39,
   "metadata": {},
   "outputs": [],
   "source": [
    "p = Path(\"/mnt/share/004_coding/Input/public-covid-data\")\n",
    "df_list = []\n",
    "for folder in p.iterdir():\n",
    "    path_list = [p.as_posix() for p in list(folder.iterdir())]\n",
    "    file_list = [os.path.split(i)[1] for i in path_list]\n",
    "    df_list.append(pd.DataFrame({'path': path_list, 'filename': file_list}))"
   ]
  },
  {
   "cell_type": "code",
   "execution_count": 49,
   "metadata": {},
   "outputs": [
    {
     "name": "stderr",
     "output_type": "stream",
     "text": [
      "\n",
      "100%|██████████| 9/9 [00:00<00:00, 1554.28it/s]"
     ]
    },
    {
     "name": "stdout",
     "output_type": "stream",
     "text": [
      "image path for /mnt/share/004_coding/Input/public-covid-data/rp_im/3.nii.gz is here 3.nii.gz\n",
      "image path for /mnt/share/004_coding/Input/public-covid-data/rp_im/8.nii.gz is here 8.nii.gz\n",
      "image path for /mnt/share/004_coding/Input/public-covid-data/rp_im/5.nii.gz is here 5.nii.gz\n",
      "image path for /mnt/share/004_coding/Input/public-covid-data/rp_im/7.nii.gz is here 7.nii.gz\n",
      "image path for /mnt/share/004_coding/Input/public-covid-data/rp_im/6.nii.gz is here 6.nii.gz\n",
      "image path for /mnt/share/004_coding/Input/public-covid-data/rp_im/2.nii.gz is here 2.nii.gz\n",
      "image path for /mnt/share/004_coding/Input/public-covid-data/rp_im/4.nii.gz is here 4.nii.gz\n",
      "image path for /mnt/share/004_coding/Input/public-covid-data/rp_im/1.nii.gz is here 1.nii.gz\n",
      "image path for /mnt/share/004_coding/Input/public-covid-data/rp_im/9.nii.gz is here 9.nii.gz\n"
     ]
    },
    {
     "name": "stderr",
     "output_type": "stream",
     "text": [
      "\n"
     ]
    }
   ],
   "source": [
    "df = df_list[0].merge(df_list[1], on='filename', suffixes=('_im',\"_msk\"))\n",
    "for idx, row in tqdm(df.iterrows(), total=len(df)):\n",
    "    print(f\"image path for {row['path_im']} is here {row['filename']}\")"
   ]
  },
  {
   "cell_type": "code",
   "execution_count": 22,
   "metadata": {},
   "outputs": [],
   "source": [
    "folder = list(p.iterdir())[0]\n",
    "sub_p = list(folder.iterdir())[0]\n",
    "sub_p.as_posix()\n",
    "str(sub_p)"
   ]
  },
  {
   "cell_type": "code",
   "execution_count": 28,
   "metadata": {},
   "outputs": [
    {
     "data": {
      "text/plain": [
       "('/mnt/share', '004')"
      ]
     },
     "execution_count": 28,
     "metadata": {},
     "output_type": "execute_result"
    }
   ],
   "source": [
    "a = \"/mnt/share/004\"\n",
    "os.path.split(a)"
   ]
  },
  {
   "cell_type": "markdown",
   "metadata": {},
   "source": [
    "## nibabel\n",
    "\n",
    "NIfTI (Neuroimaging Informatics Technology Initiative) with Python for brain MRI images"
   ]
  },
  {
   "cell_type": "code",
   "execution_count": 50,
   "metadata": {},
   "outputs": [],
   "source": [
    "import nibabel as nib"
   ]
  },
  {
   "cell_type": "markdown",
   "metadata": {},
   "source": [
    "### nib.lead()"
   ]
  },
  {
   "cell_type": "code",
   "execution_count": 76,
   "metadata": {},
   "outputs": [],
   "source": [
    "path_im = df['path_im'].iloc[0]\n",
    "path_msk = df['path_msk'].iloc[0]\n",
    "# im_nifti = nib.load(path)\n",
    "# data = im_nifti.get_fdata()\n",
    "# data.shape\n",
    "# data_t = np.transpose(data)\n",
    "# data_t.shape"
   ]
  },
  {
   "cell_type": "code",
   "execution_count": 77,
   "metadata": {},
   "outputs": [],
   "source": [
    "# data = load_nifti(path)\n",
    "def load_nifti(path):\n",
    "    im_nifti = nib.load(path)\n",
    "    data = im_nifti.get_fdata()\n",
    "    data = np.transpose(data)\n",
    "    return data"
   ]
  },
  {
   "cell_type": "code",
   "execution_count": 78,
   "metadata": {},
   "outputs": [],
   "source": [
    "data_im = load_nifti(path_im)\n",
    "data_msk = load_nifti(path_msk)"
   ]
  },
  {
   "cell_type": "code",
   "execution_count": 79,
   "metadata": {},
   "outputs": [
    {
     "data": {
      "text/plain": [
       "(418, 630, 630)"
      ]
     },
     "execution_count": 79,
     "metadata": {},
     "output_type": "execute_result"
    }
   ],
   "source": [
    "data_msk.shape"
   ]
  },
  {
   "cell_type": "code",
   "execution_count": 90,
   "metadata": {},
   "outputs": [
    {
     "data": {
      "text/plain": [
       "<matplotlib.image.AxesImage at 0x7f5f3503b810>"
      ]
     },
     "execution_count": 90,
     "metadata": {},
     "output_type": "execute_result"
    },
    {
     "data": {
      "image/png": "[encoded data removed]",
      "text/plain": [
       "<Figure size 432x288 with 1 Axes>"
      ]
     },
     "metadata": {
      "needs_background": "light"
     },
     "output_type": "display_data"
    }
   ],
   "source": [
    "plt.imshow(data_im[150], cmap='gray')"
   ]
  },
  {
   "cell_type": "code",
   "execution_count": 89,
   "metadata": {},
   "outputs": [
    {
     "data": {
      "text/plain": [
       "<matplotlib.image.AxesImage at 0x7f5f350d1a90>"
      ]
     },
     "execution_count": 89,
     "metadata": {},
     "output_type": "execute_result"
    },
    {
     "data": {
      "image/png": "[encoded data removed]",
      "text/plain": [
       "<Figure size 432x288 with 1 Axes>"
      ]
     },
     "metadata": {
      "needs_background": "light"
     },
     "output_type": "display_data"
    }
   ],
   "source": [
    "plt.imshow(data_msk[150])"
   ]
  },
  {
   "cell_type": "code",
   "execution_count": 91,
   "metadata": {},
   "outputs": [
    {
     "data": {
      "text/plain": [
       "array([0., 1., 2.])"
      ]
     },
     "execution_count": 91,
     "metadata": {},
     "output_type": "execute_result"
    }
   ],
   "source": [
    "# 0: background, 1: ground-glass, 2: consolidation, 3: pleural effusion\n",
    "np.unique(data_msk)"
   ]
  },
  {
   "cell_type": "code",
   "execution_count": 93,
   "metadata": {},
   "outputs": [],
   "source": [
    "df['slide_num'] = np.nan"
   ]
  },
  {
   "cell_type": "code",
   "execution_count": 97,
   "metadata": {},
   "outputs": [
    {
     "name": "stderr",
     "output_type": "stream",
     "text": [
      "\n",
      "  0%|          | 0/9 [00:00<?, ?it/s]\u001b[A\n",
      " 11%|█         | 1/9 [00:44<05:58, 44.86s/it]\u001b[A\n",
      " 22%|██▏       | 2/9 [00:47<03:45, 32.27s/it]\u001b[A\n",
      " 33%|███▎      | 3/9 [00:54<02:28, 24.71s/it]\u001b[A\n",
      " 44%|████▍     | 4/9 [00:59<01:32, 18.60s/it]\u001b[A\n",
      " 56%|█████▌    | 5/9 [01:02<00:56, 14.16s/it]\u001b[A\n",
      " 67%|██████▋   | 6/9 [01:06<00:32, 10.96s/it]\u001b[A\n",
      " 78%|███████▊  | 7/9 [01:10<00:17,  8.81s/it]\u001b[A\n",
      " 89%|████████▉ | 8/9 [01:14<00:07,  7.47s/it]\u001b[A\n",
      "100%|██████████| 9/9 [01:24<00:00,  9.41s/it]\u001b[A\n"
     ]
    }
   ],
   "source": [
    "for idx, row in tqdm(df.iterrows(), total=len(df)):\n",
    "    data = load_nifti(row['path_im'])\n",
    "    slice_num = data.shape[0]\n",
    "    df.loc[idx, 'slice_num'] = slice_num"
   ]
  },
  {
   "cell_type": "code",
   "execution_count": 96,
   "metadata": {},
   "outputs": [
    {
     "data": {
      "text/html": [
       "<div>\n",
       "<style scoped>\n",
       "    .dataframe tbody tr th:only-of-type {\n",
       "        vertical-align: middle;\n",
       "    }\n",
       "\n",
       "    .dataframe tbody tr th {\n",
       "        vertical-align: top;\n",
       "    }\n",
       "\n",
       "    .dataframe thead th {\n",
       "        text-align: right;\n",
       "    }\n",
       "</style>\n",
       "<table border=\"1\" class=\"dataframe\">\n",
       "  <thead>\n",
       "    <tr style=\"text-align: right;\">\n",
       "      <th></th>\n",
       "      <th>path_im</th>\n",
       "      <th>filename</th>\n",
       "      <th>path_msk</th>\n",
       "      <th>slide_num</th>\n",
       "      <th>slice_num</th>\n",
       "    </tr>\n",
       "  </thead>\n",
       "  <tbody>\n",
       "    <tr>\n",
       "      <th>0</th>\n",
       "      <td>/mnt/share/004_coding/Input/public-covid-data/...</td>\n",
       "      <td>3.nii.gz</td>\n",
       "      <td>/mnt/share/004_coding/Input/public-covid-data/...</td>\n",
       "      <td>NaN</td>\n",
       "      <td>418.0</td>\n",
       "    </tr>\n",
       "    <tr>\n",
       "      <th>1</th>\n",
       "      <td>/mnt/share/004_coding/Input/public-covid-data/...</td>\n",
       "      <td>8.nii.gz</td>\n",
       "      <td>/mnt/share/004_coding/Input/public-covid-data/...</td>\n",
       "      <td>NaN</td>\n",
       "      <td>45.0</td>\n",
       "    </tr>\n",
       "    <tr>\n",
       "      <th>2</th>\n",
       "      <td>/mnt/share/004_coding/Input/public-covid-data/...</td>\n",
       "      <td>5.nii.gz</td>\n",
       "      <td>/mnt/share/004_coding/Input/public-covid-data/...</td>\n",
       "      <td>NaN</td>\n",
       "      <td>66.0</td>\n",
       "    </tr>\n",
       "    <tr>\n",
       "      <th>3</th>\n",
       "      <td>/mnt/share/004_coding/Input/public-covid-data/...</td>\n",
       "      <td>7.nii.gz</td>\n",
       "      <td>/mnt/share/004_coding/Input/public-covid-data/...</td>\n",
       "      <td>NaN</td>\n",
       "      <td>42.0</td>\n",
       "    </tr>\n",
       "    <tr>\n",
       "      <th>4</th>\n",
       "      <td>/mnt/share/004_coding/Input/public-covid-data/...</td>\n",
       "      <td>6.nii.gz</td>\n",
       "      <td>/mnt/share/004_coding/Input/public-covid-data/...</td>\n",
       "      <td>NaN</td>\n",
       "      <td>42.0</td>\n",
       "    </tr>\n",
       "    <tr>\n",
       "      <th>5</th>\n",
       "      <td>/mnt/share/004_coding/Input/public-covid-data/...</td>\n",
       "      <td>2.nii.gz</td>\n",
       "      <td>/mnt/share/004_coding/Input/public-covid-data/...</td>\n",
       "      <td>NaN</td>\n",
       "      <td>39.0</td>\n",
       "    </tr>\n",
       "    <tr>\n",
       "      <th>6</th>\n",
       "      <td>/mnt/share/004_coding/Input/public-covid-data/...</td>\n",
       "      <td>4.nii.gz</td>\n",
       "      <td>/mnt/share/004_coding/Input/public-covid-data/...</td>\n",
       "      <td>NaN</td>\n",
       "      <td>39.0</td>\n",
       "    </tr>\n",
       "    <tr>\n",
       "      <th>7</th>\n",
       "      <td>/mnt/share/004_coding/Input/public-covid-data/...</td>\n",
       "      <td>1.nii.gz</td>\n",
       "      <td>/mnt/share/004_coding/Input/public-covid-data/...</td>\n",
       "      <td>NaN</td>\n",
       "      <td>45.0</td>\n",
       "    </tr>\n",
       "    <tr>\n",
       "      <th>8</th>\n",
       "      <td>/mnt/share/004_coding/Input/public-covid-data/...</td>\n",
       "      <td>9.nii.gz</td>\n",
       "      <td>/mnt/share/004_coding/Input/public-covid-data/...</td>\n",
       "      <td>NaN</td>\n",
       "      <td>93.0</td>\n",
       "    </tr>\n",
       "  </tbody>\n",
       "</table>\n",
       "</div>"
      ],
      "text/plain": [
       "                                             path_im  filename  \\\n",
       "0  /mnt/share/004_coding/Input/public-covid-data/...  3.nii.gz   \n",
       "1  /mnt/share/004_coding/Input/public-covid-data/...  8.nii.gz   \n",
       "2  /mnt/share/004_coding/Input/public-covid-data/...  5.nii.gz   \n",
       "3  /mnt/share/004_coding/Input/public-covid-data/...  7.nii.gz   \n",
       "4  /mnt/share/004_coding/Input/public-covid-data/...  6.nii.gz   \n",
       "5  /mnt/share/004_coding/Input/public-covid-data/...  2.nii.gz   \n",
       "6  /mnt/share/004_coding/Input/public-covid-data/...  4.nii.gz   \n",
       "7  /mnt/share/004_coding/Input/public-covid-data/...  1.nii.gz   \n",
       "8  /mnt/share/004_coding/Input/public-covid-data/...  9.nii.gz   \n",
       "\n",
       "                                            path_msk  slide_num  slice_num  \n",
       "0  /mnt/share/004_coding/Input/public-covid-data/...        NaN      418.0  \n",
       "1  /mnt/share/004_coding/Input/public-covid-data/...        NaN       45.0  \n",
       "2  /mnt/share/004_coding/Input/public-covid-data/...        NaN       66.0  \n",
       "3  /mnt/share/004_coding/Input/public-covid-data/...        NaN       42.0  \n",
       "4  /mnt/share/004_coding/Input/public-covid-data/...        NaN       42.0  \n",
       "5  /mnt/share/004_coding/Input/public-covid-data/...        NaN       39.0  \n",
       "6  /mnt/share/004_coding/Input/public-covid-data/...        NaN       39.0  \n",
       "7  /mnt/share/004_coding/Input/public-covid-data/...        NaN       45.0  \n",
       "8  /mnt/share/004_coding/Input/public-covid-data/...        NaN       93.0  "
      ]
     },
     "execution_count": 96,
     "metadata": {},
     "output_type": "execute_result"
    }
   ],
   "source": [
    "df"
   ]
  },
  {
   "cell_type": "markdown",
   "metadata": {},
   "source": [
    "## Multiprocessing"
   ]
  },
  {
   "cell_type": "code",
   "execution_count": 103,
   "metadata": {},
   "outputs": [],
   "source": [
    "from multiprocessing import Pool, cpu_count\n",
    "import time"
   ]
  },
  {
   "cell_type": "markdown",
   "metadata": {},
   "source": [
    "### .map()"
   ]
  },
  {
   "cell_type": "code",
   "execution_count": 101,
   "metadata": {},
   "outputs": [
    {
     "data": {
      "text/plain": [
       "[1, 4, 9, 16]"
      ]
     },
     "execution_count": 101,
     "metadata": {},
     "output_type": "execute_result"
    }
   ],
   "source": [
    "def square(n):\n",
    "    return n ** 2\n",
    "params = [1, 2, 3, 4]\n",
    "list(map(square, params))\n",
    "# [square(p) for p in params]"
   ]
  },
  {
   "cell_type": "markdown",
   "metadata": {},
   "source": [
    "### Pool.map() & Pool.imap()"
   ]
  },
  {
   "cell_type": "code",
   "execution_count": 105,
   "metadata": {},
   "outputs": [],
   "source": [
    "p = Pool(processes=cpu_count()-1)\n",
    "\n",
    "def wait_sec(sec):\n",
    "    time.sleep(sec)\n",
    "    return sec ** 2"
   ]
  },
  {
   "cell_type": "code",
   "execution_count": 116,
   "metadata": {},
   "outputs": [
    {
     "name": "stdout",
     "output_type": "stream",
     "text": [
      "1: 1.0033988952636719 sec\n",
      "9: 3.0052616596221924 sec\n",
      "25: 5.007384777069092 sec\n",
      "It took 5.0077056884765625 sec\n"
     ]
    }
   ],
   "source": [
    "before = time.time()\n",
    "# list(tqdm(p.imap(wait_sec, [1, 5, 3]), total=3))\n",
    "for i in p.imap(wait_sec, [1, 5, 3]):\n",
    "    print(f\"{i}: {time.time() - before} sec\")\n",
    "\n",
    "# for i in p.imap_unordered(wait_sec, [1, 5, 3]):\n",
    "#     print(f\"{i}: {time.time() - before} sec\")\n",
    "    \n",
    "after = time.time()\n",
    "print(f\"It took {after - before} sec\")\n",
    "p.close()\n",
    "p.join()"
   ]
  },
  {
   "cell_type": "code",
   "execution_count": 111,
   "metadata": {},
   "outputs": [
    {
     "data": {
      "text/plain": [
       "[1, 25, 9]"
      ]
     },
     "execution_count": 111,
     "metadata": {},
     "output_type": "execute_result"
    }
   ],
   "source": [
    "results"
   ]
  },
  {
   "cell_type": "code",
   "execution_count": null,
   "metadata": {},
   "outputs": [],
   "source": [
    "def multiply(a, b):\n",
    "    return a * b\n",
    "\n",
    "def wrap_multiply(args):\n",
    "    return multiply(*args)\n",
    "\n",
    "param1 = [1, 2, 3, 4]\n",
    "param2 = [10, 30, 70, 20]\n",
    "job_args = list(zip(param1, param2))\n",
    "# [10, 60, 210, 80]\n",
    "\n",
    "p = Pool(processes=cpu_count()-1)\n",
    "results = list(p.imap(wrap_multiply, job_args))\n",
    "p.close()\n",
    "p.join()"
   ]
  },
  {
   "cell_type": "markdown",
   "metadata": {},
   "source": [
    "## Load Python Script in Jupyter"
   ]
  },
  {
   "cell_type": "code",
   "execution_count": 13,
   "metadata": {},
   "outputs": [
    {
     "name": "stdout",
     "output_type": "stream",
     "text": [
      "The autoreload extension is already loaded. To reload it, use:\n",
      "  %reload_ext autoreload\n"
     ]
    }
   ],
   "source": [
    "%load_ext autoreload\n",
    "%autoreload 2\n",
    "\n",
    "from util import multiply2\n",
    "# import util\n",
    "# from <foldername> import <filename>"
   ]
  },
  {
   "cell_type": "code",
   "execution_count": 15,
   "metadata": {},
   "outputs": [
    {
     "name": "stdout",
     "output_type": "stream",
     "text": [
      "3 x 2 = 6!!!!\n"
     ]
    },
    {
     "data": {
      "text/plain": [
       "6"
      ]
     },
     "execution_count": 15,
     "metadata": {},
     "output_type": "execute_result"
    }
   ],
   "source": [
    "multiply2(3, 2)"
   ]
  }
 ],
 "metadata": {
  "kernelspec": {
   "display_name": "Python 3",
   "language": "python",
   "name": "python3"
  },
  "language_info": {
   "codemirror_mode": {
    "name": "ipython",
    "version": 3
   },
   "file_extension": ".py",
   "mimetype": "text/x-python",
   "name": "python",
   "nbconvert_exporter": "python",
   "pygments_lexer": "ipython3",
   "version": "3.7.6"
  }
 },
 "nbformat": 4,
 "nbformat_minor": 4
}
